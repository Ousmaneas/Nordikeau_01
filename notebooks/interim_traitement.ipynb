{
 "cells": [
  {
   "cell_type": "code",
   "execution_count": 1,
   "id": "3a33bfe5",
   "metadata": {},
   "outputs": [],
   "source": [
    "import pandas as pd\n",
    "import os\n",
    "import re\n",
    "\n",
    "# Définition du chemin de sauvegarde\n",
    "data_path = r\"C:\\Users\\ymarega\\OneDrive - NORDIKeau\\Bureau\\Nordikeau\\Innovation\\Nordikeau_INRSeau_2025\\Nordikeau_01\\data\""
   ]
  },
  {
   "cell_type": "code",
   "execution_count": 2,
   "id": "bb05233c",
   "metadata": {},
   "outputs": [],
   "source": [
    "def load_data(data_type, db_name, tb_name, variables):\n",
    "  \n",
    "    # Chemin complet du fichier\n",
    "    data_type_db_tb_name_path = os.path.join(data_path, data_type, db_name, tb_name)\n",
    "    print(f\"Chargement du fichier : {data_type_db_tb_name_path}\")\n",
    "\n",
    "    # Lire le fichier CSV (toutes les colonnes si variables == \"all\")\n",
    "    if variables[0] == \"all\":\n",
    "        data = pd.read_csv(data_type_db_tb_name_path)\n",
    "    else:\n",
    "        data = pd.read_csv(data_type_db_tb_name_path, usecols=variables)\n",
    "\n",
    "    # Vérifier si \"date_creation\" est dans les colonnes\n",
    "    if \"date_creation\" in data.columns:\n",
    "        # Trier par \"date_creation\"\n",
    "        data[\"date_creation\"] = pd.to_datetime(data[\"date_creation\"])\n",
    "        data = data.sort_values(by=\"date_creation\").reset_index(drop=True)\n",
    "    else:\n",
    "        raise ValueError(\"La colonne 'date_creation' est requise pour le tri mais est absente des données.\")\n",
    "\n",
    "    return data\n"
   ]
  },
  {
   "cell_type": "code",
   "execution_count": 3,
   "id": "a01e745d",
   "metadata": {},
   "outputs": [
    {
     "name": "stdout",
     "output_type": "stream",
     "text": [
      "Chargement du fichier : C:\\Users\\ymarega\\OneDrive - NORDIKeau\\Bureau\\Nordikeau\\Innovation\\Nordikeau_INRSeau_2025\\Nordikeau_01\\data\\interim\\municipalite\\debit_pression_municipalite.csv\n",
      "Données sauvegardées dans C:\\Users\\ymarega\\OneDrive - NORDIKeau\\Bureau\\Nordikeau\\Innovation\\Nordikeau_INRSeau_2025\\Nordikeau_01\\data\\interim\\municipalite\\debit_pression_municipalite_20210101 00h_20240715 13h_10s.csv\n"
     ]
    }
   ],
   "source": [
    "# type de données\n",
    "data_type = \"interim\"\n",
    "\n",
    "## Nom de la base de donnée     \n",
    "db_name = 'municipalite'\n",
    "\n",
    "## Nom de la table\n",
    "tb_name = 'debit_pression_municipalite.csv' \n",
    "\n",
    "## variables   \n",
    "variables = [\"all\"]\n",
    "\n",
    "df = load_data(data_type, db_name, tb_name, variables)\n",
    "\n",
    "debut = df['date_creation'].iloc[0]  # Première valeur\n",
    "fin = df['date_creation'].iloc[-1]  # Dernière valeur\n",
    "\n",
    "# Génération du nom du fichier avec la période d'extraction\n",
    "nom_fichier = f\"{tb_name.replace('.csv', '')}_{debut.strftime('%Y%m%d %Hh')}_{fin.strftime('%Y%m%d %Hh')}_10s.csv\"\n",
    "\n",
    "# Chemin complet du fichier\n",
    "chemin_fichier = os.path.join(data_path, data_type, db_name, nom_fichier)\n",
    "\n",
    "# Sauvegarde du DataFrame en CSV\n",
    "df.to_csv(chemin_fichier, index=False)\n",
    "\n",
    "print(f\"Données sauvegardées dans {chemin_fichier}\")"
   ]
  }
 ],
 "metadata": {
  "kernelspec": {
   "display_name": ".venv",
   "language": "python",
   "name": "python3"
  },
  "language_info": {
   "codemirror_mode": {
    "name": "ipython",
    "version": 3
   },
   "file_extension": ".py",
   "mimetype": "text/x-python",
   "name": "python",
   "nbconvert_exporter": "python",
   "pygments_lexer": "ipython3",
   "version": "3.12.2"
  }
 },
 "nbformat": 4,
 "nbformat_minor": 5
}
